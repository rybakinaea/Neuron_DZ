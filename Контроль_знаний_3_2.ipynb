{
  "cells": [
    {
      "cell_type": "markdown",
      "metadata": {
        "id": "view-in-github",
        "colab_type": "text"
      },
      "source": [
        "<a href=\"https://colab.research.google.com/github/rybakinaea/Neuron_DZ/blob/main/%D0%9A%D0%BE%D0%BD%D1%82%D1%80%D0%BE%D0%BB%D1%8C_%D0%B7%D0%BD%D0%B0%D0%BD%D0%B8%D0%B9_3_2.ipynb\" target=\"_parent\"><img src=\"https://colab.research.google.com/assets/colab-badge.svg\" alt=\"Open In Colab\"/></a>"
      ]
    },
    {
      "cell_type": "markdown",
      "metadata": {
        "id": "1gxRZ_lI-4Da"
      },
      "source": [
        "###Задание"
      ]
    },
    {
      "cell_type": "markdown",
      "metadata": {
        "id": "35zqDBC_ksBq"
      },
      "source": [
        "# 1."
      ]
    },
    {
      "cell_type": "markdown",
      "metadata": {
        "id": "_Atec9Uy_CYJ"
      },
      "source": [
        "1) Запустить ячейку ниже, чтобы получить 2 жанра. Для полученных жанров провести все этапы предварительной обработки текста (как в примере), обучить наивный байесовский классификатор, численно оценить его работу."
      ]
    },
    {
      "cell_type": "code",
      "execution_count": 1,
      "metadata": {
        "colab": {
          "base_uri": "https://localhost:8080/"
        },
        "id": "XxkZ901zyLPQ",
        "outputId": "b488b5a3-8463-4deb-aa2d-bc320d8e3bde"
      },
      "outputs": [
        {
          "output_type": "stream",
          "name": "stdout",
          "text": [
            "ваши жанры Rock и Christian\n"
          ]
        }
      ],
      "source": [
        " import random\n",
        " lst = ['Christian', 'Country', 'Pop', 'Rock', 'R&B']\n",
        " print('ваши жанры', random.choice(lst), 'и', random.choice(lst))"
      ]
    },
    {
      "cell_type": "code",
      "execution_count": 39,
      "metadata": {
        "id": "VbUnwn3ciOQh",
        "colab": {
          "base_uri": "https://localhost:8080/",
          "height": 5594
        },
        "outputId": "375d1f26-7fbe-473c-bfc4-157abcf12b42"
      },
      "outputs": [
        {
          "output_type": "stream",
          "name": "stdout",
          "text": [
            "Drive already mounted at /content/drive/; to attempt to forcibly remount, call drive.mount(\"/content/drive/\", force_remount=True).\n"
          ]
        },
        {
          "output_type": "execute_result",
          "data": {
            "text/plain": [
              "         genre                                             lyrics  \\\n",
              "0    Christian   Who am I, that the Lord of all the earth Woul...   \n",
              "1    Christian   Glory Revealed  By His Wounds He was pierced ...   \n",
              "2    Christian   Lord of heaven and earth Lord of all creation...   \n",
              "3    Christian   I can only imagine what it will be like When ...   \n",
              "4    Christian   I am not skilled to understand What God has w...   \n",
              "..         ...                                                ...   \n",
              "462       Rock   Cant explain all the feelings that youre maki...   \n",
              "463       Rock   One foot on the brake and one on the gas, hey...   \n",
              "464       Rock   Carry on my wayward son Therell be peace when...   \n",
              "465       Rock   Ooh yeah Turn it up Come on  Im working hard,...   \n",
              "466       Rock   Out on the road for forty days Last night in ...   \n",
              "\n",
              "                                               lowered  \n",
              "0     who am i, that the lord of all the earth woul...  \n",
              "1     glory revealed  by his wounds he was pierced ...  \n",
              "2     lord of heaven and earth lord of all creation...  \n",
              "3     i can only imagine what it will be like when ...  \n",
              "4     i am not skilled to understand what god has w...  \n",
              "..                                                 ...  \n",
              "462   cant explain all the feelings that youre maki...  \n",
              "463   one foot on the brake and one on the gas, hey...  \n",
              "464   carry on my wayward son therell be peace when...  \n",
              "465   ooh yeah turn it up come on  im working hard,...  \n",
              "466   out on the road for forty days last night in ...  \n",
              "\n",
              "[189 rows x 3 columns]"
            ],
            "text/html": [
              "\n",
              "  <div id=\"df-2872a662-de45-4696-ba09-5d8a677e832b\" class=\"colab-df-container\">\n",
              "    <div>\n",
              "<style scoped>\n",
              "    .dataframe tbody tr th:only-of-type {\n",
              "        vertical-align: middle;\n",
              "    }\n",
              "\n",
              "    .dataframe tbody tr th {\n",
              "        vertical-align: top;\n",
              "    }\n",
              "\n",
              "    .dataframe thead th {\n",
              "        text-align: right;\n",
              "    }\n",
              "</style>\n",
              "<table border=\"1\" class=\"dataframe\">\n",
              "  <thead>\n",
              "    <tr style=\"text-align: right;\">\n",
              "      <th></th>\n",
              "      <th>genre</th>\n",
              "      <th>lyrics</th>\n",
              "      <th>lowered</th>\n",
              "    </tr>\n",
              "  </thead>\n",
              "  <tbody>\n",
              "    <tr>\n",
              "      <th>0</th>\n",
              "      <td>Christian</td>\n",
              "      <td>Who am I, that the Lord of all the earth Woul...</td>\n",
              "      <td>who am i, that the lord of all the earth woul...</td>\n",
              "    </tr>\n",
              "    <tr>\n",
              "      <th>1</th>\n",
              "      <td>Christian</td>\n",
              "      <td>Glory Revealed  By His Wounds He was pierced ...</td>\n",
              "      <td>glory revealed  by his wounds he was pierced ...</td>\n",
              "    </tr>\n",
              "    <tr>\n",
              "      <th>2</th>\n",
              "      <td>Christian</td>\n",
              "      <td>Lord of heaven and earth Lord of all creation...</td>\n",
              "      <td>lord of heaven and earth lord of all creation...</td>\n",
              "    </tr>\n",
              "    <tr>\n",
              "      <th>3</th>\n",
              "      <td>Christian</td>\n",
              "      <td>I can only imagine what it will be like When ...</td>\n",
              "      <td>i can only imagine what it will be like when ...</td>\n",
              "    </tr>\n",
              "    <tr>\n",
              "      <th>4</th>\n",
              "      <td>Christian</td>\n",
              "      <td>I am not skilled to understand What God has w...</td>\n",
              "      <td>i am not skilled to understand what god has w...</td>\n",
              "    </tr>\n",
              "    <tr>\n",
              "      <th>...</th>\n",
              "      <td>...</td>\n",
              "      <td>...</td>\n",
              "      <td>...</td>\n",
              "    </tr>\n",
              "    <tr>\n",
              "      <th>462</th>\n",
              "      <td>Rock</td>\n",
              "      <td>Cant explain all the feelings that youre maki...</td>\n",
              "      <td>cant explain all the feelings that youre maki...</td>\n",
              "    </tr>\n",
              "    <tr>\n",
              "      <th>463</th>\n",
              "      <td>Rock</td>\n",
              "      <td>One foot on the brake and one on the gas, hey...</td>\n",
              "      <td>one foot on the brake and one on the gas, hey...</td>\n",
              "    </tr>\n",
              "    <tr>\n",
              "      <th>464</th>\n",
              "      <td>Rock</td>\n",
              "      <td>Carry on my wayward son Therell be peace when...</td>\n",
              "      <td>carry on my wayward son therell be peace when...</td>\n",
              "    </tr>\n",
              "    <tr>\n",
              "      <th>465</th>\n",
              "      <td>Rock</td>\n",
              "      <td>Ooh yeah Turn it up Come on  Im working hard,...</td>\n",
              "      <td>ooh yeah turn it up come on  im working hard,...</td>\n",
              "    </tr>\n",
              "    <tr>\n",
              "      <th>466</th>\n",
              "      <td>Rock</td>\n",
              "      <td>Out on the road for forty days Last night in ...</td>\n",
              "      <td>out on the road for forty days last night in ...</td>\n",
              "    </tr>\n",
              "  </tbody>\n",
              "</table>\n",
              "<p>189 rows × 3 columns</p>\n",
              "</div>\n",
              "    <div class=\"colab-df-buttons\">\n",
              "\n",
              "  <div class=\"colab-df-container\">\n",
              "    <button class=\"colab-df-convert\" onclick=\"convertToInteractive('df-2872a662-de45-4696-ba09-5d8a677e832b')\"\n",
              "            title=\"Convert this dataframe to an interactive table.\"\n",
              "            style=\"display:none;\">\n",
              "\n",
              "  <svg xmlns=\"http://www.w3.org/2000/svg\" height=\"24px\" viewBox=\"0 -960 960 960\">\n",
              "    <path d=\"M120-120v-720h720v720H120Zm60-500h600v-160H180v160Zm220 220h160v-160H400v160Zm0 220h160v-160H400v160ZM180-400h160v-160H180v160Zm440 0h160v-160H620v160ZM180-180h160v-160H180v160Zm440 0h160v-160H620v160Z\"/>\n",
              "  </svg>\n",
              "    </button>\n",
              "\n",
              "  <style>\n",
              "    .colab-df-container {\n",
              "      display:flex;\n",
              "      gap: 12px;\n",
              "    }\n",
              "\n",
              "    .colab-df-convert {\n",
              "      background-color: #E8F0FE;\n",
              "      border: none;\n",
              "      border-radius: 50%;\n",
              "      cursor: pointer;\n",
              "      display: none;\n",
              "      fill: #1967D2;\n",
              "      height: 32px;\n",
              "      padding: 0 0 0 0;\n",
              "      width: 32px;\n",
              "    }\n",
              "\n",
              "    .colab-df-convert:hover {\n",
              "      background-color: #E2EBFA;\n",
              "      box-shadow: 0px 1px 2px rgba(60, 64, 67, 0.3), 0px 1px 3px 1px rgba(60, 64, 67, 0.15);\n",
              "      fill: #174EA6;\n",
              "    }\n",
              "\n",
              "    .colab-df-buttons div {\n",
              "      margin-bottom: 4px;\n",
              "    }\n",
              "\n",
              "    [theme=dark] .colab-df-convert {\n",
              "      background-color: #3B4455;\n",
              "      fill: #D2E3FC;\n",
              "    }\n",
              "\n",
              "    [theme=dark] .colab-df-convert:hover {\n",
              "      background-color: #434B5C;\n",
              "      box-shadow: 0px 1px 3px 1px rgba(0, 0, 0, 0.15);\n",
              "      filter: drop-shadow(0px 1px 2px rgba(0, 0, 0, 0.3));\n",
              "      fill: #FFFFFF;\n",
              "    }\n",
              "  </style>\n",
              "\n",
              "    <script>\n",
              "      const buttonEl =\n",
              "        document.querySelector('#df-2872a662-de45-4696-ba09-5d8a677e832b button.colab-df-convert');\n",
              "      buttonEl.style.display =\n",
              "        google.colab.kernel.accessAllowed ? 'block' : 'none';\n",
              "\n",
              "      async function convertToInteractive(key) {\n",
              "        const element = document.querySelector('#df-2872a662-de45-4696-ba09-5d8a677e832b');\n",
              "        const dataTable =\n",
              "          await google.colab.kernel.invokeFunction('convertToInteractive',\n",
              "                                                    [key], {});\n",
              "        if (!dataTable) return;\n",
              "\n",
              "        const docLinkHtml = 'Like what you see? Visit the ' +\n",
              "          '<a target=\"_blank\" href=https://colab.research.google.com/notebooks/data_table.ipynb>data table notebook</a>'\n",
              "          + ' to learn more about interactive tables.';\n",
              "        element.innerHTML = '';\n",
              "        dataTable['output_type'] = 'display_data';\n",
              "        await google.colab.output.renderOutput(dataTable, element);\n",
              "        const docLink = document.createElement('div');\n",
              "        docLink.innerHTML = docLinkHtml;\n",
              "        element.appendChild(docLink);\n",
              "      }\n",
              "    </script>\n",
              "  </div>\n",
              "\n",
              "\n",
              "<div id=\"df-e7cbe010-edf1-4963-9a71-38e7058dcecb\">\n",
              "  <button class=\"colab-df-quickchart\" onclick=\"quickchart('df-e7cbe010-edf1-4963-9a71-38e7058dcecb')\"\n",
              "            title=\"Suggest charts\"\n",
              "            style=\"display:none;\">\n",
              "\n",
              "<svg xmlns=\"http://www.w3.org/2000/svg\" height=\"24px\"viewBox=\"0 0 24 24\"\n",
              "     width=\"24px\">\n",
              "    <g>\n",
              "        <path d=\"M19 3H5c-1.1 0-2 .9-2 2v14c0 1.1.9 2 2 2h14c1.1 0 2-.9 2-2V5c0-1.1-.9-2-2-2zM9 17H7v-7h2v7zm4 0h-2V7h2v10zm4 0h-2v-4h2v4z\"/>\n",
              "    </g>\n",
              "</svg>\n",
              "  </button>\n",
              "\n",
              "<style>\n",
              "  .colab-df-quickchart {\n",
              "      --bg-color: #E8F0FE;\n",
              "      --fill-color: #1967D2;\n",
              "      --hover-bg-color: #E2EBFA;\n",
              "      --hover-fill-color: #174EA6;\n",
              "      --disabled-fill-color: #AAA;\n",
              "      --disabled-bg-color: #DDD;\n",
              "  }\n",
              "\n",
              "  [theme=dark] .colab-df-quickchart {\n",
              "      --bg-color: #3B4455;\n",
              "      --fill-color: #D2E3FC;\n",
              "      --hover-bg-color: #434B5C;\n",
              "      --hover-fill-color: #FFFFFF;\n",
              "      --disabled-bg-color: #3B4455;\n",
              "      --disabled-fill-color: #666;\n",
              "  }\n",
              "\n",
              "  .colab-df-quickchart {\n",
              "    background-color: var(--bg-color);\n",
              "    border: none;\n",
              "    border-radius: 50%;\n",
              "    cursor: pointer;\n",
              "    display: none;\n",
              "    fill: var(--fill-color);\n",
              "    height: 32px;\n",
              "    padding: 0;\n",
              "    width: 32px;\n",
              "  }\n",
              "\n",
              "  .colab-df-quickchart:hover {\n",
              "    background-color: var(--hover-bg-color);\n",
              "    box-shadow: 0 1px 2px rgba(60, 64, 67, 0.3), 0 1px 3px 1px rgba(60, 64, 67, 0.15);\n",
              "    fill: var(--button-hover-fill-color);\n",
              "  }\n",
              "\n",
              "  .colab-df-quickchart-complete:disabled,\n",
              "  .colab-df-quickchart-complete:disabled:hover {\n",
              "    background-color: var(--disabled-bg-color);\n",
              "    fill: var(--disabled-fill-color);\n",
              "    box-shadow: none;\n",
              "  }\n",
              "\n",
              "  .colab-df-spinner {\n",
              "    border: 2px solid var(--fill-color);\n",
              "    border-color: transparent;\n",
              "    border-bottom-color: var(--fill-color);\n",
              "    animation:\n",
              "      spin 1s steps(1) infinite;\n",
              "  }\n",
              "\n",
              "  @keyframes spin {\n",
              "    0% {\n",
              "      border-color: transparent;\n",
              "      border-bottom-color: var(--fill-color);\n",
              "      border-left-color: var(--fill-color);\n",
              "    }\n",
              "    20% {\n",
              "      border-color: transparent;\n",
              "      border-left-color: var(--fill-color);\n",
              "      border-top-color: var(--fill-color);\n",
              "    }\n",
              "    30% {\n",
              "      border-color: transparent;\n",
              "      border-left-color: var(--fill-color);\n",
              "      border-top-color: var(--fill-color);\n",
              "      border-right-color: var(--fill-color);\n",
              "    }\n",
              "    40% {\n",
              "      border-color: transparent;\n",
              "      border-right-color: var(--fill-color);\n",
              "      border-top-color: var(--fill-color);\n",
              "    }\n",
              "    60% {\n",
              "      border-color: transparent;\n",
              "      border-right-color: var(--fill-color);\n",
              "    }\n",
              "    80% {\n",
              "      border-color: transparent;\n",
              "      border-right-color: var(--fill-color);\n",
              "      border-bottom-color: var(--fill-color);\n",
              "    }\n",
              "    90% {\n",
              "      border-color: transparent;\n",
              "      border-bottom-color: var(--fill-color);\n",
              "    }\n",
              "  }\n",
              "</style>\n",
              "\n",
              "  <script>\n",
              "    async function quickchart(key) {\n",
              "      const quickchartButtonEl =\n",
              "        document.querySelector('#' + key + ' button');\n",
              "      quickchartButtonEl.disabled = true;  // To prevent multiple clicks.\n",
              "      quickchartButtonEl.classList.add('colab-df-spinner');\n",
              "      try {\n",
              "        const charts = await google.colab.kernel.invokeFunction(\n",
              "            'suggestCharts', [key], {});\n",
              "      } catch (error) {\n",
              "        console.error('Error during call to suggestCharts:', error);\n",
              "      }\n",
              "      quickchartButtonEl.classList.remove('colab-df-spinner');\n",
              "      quickchartButtonEl.classList.add('colab-df-quickchart-complete');\n",
              "    }\n",
              "    (() => {\n",
              "      let quickchartButtonEl =\n",
              "        document.querySelector('#df-e7cbe010-edf1-4963-9a71-38e7058dcecb button');\n",
              "      quickchartButtonEl.style.display =\n",
              "        google.colab.kernel.accessAllowed ? 'block' : 'none';\n",
              "    })();\n",
              "  </script>\n",
              "</div>\n",
              "    </div>\n",
              "  </div>\n"
            ],
            "application/vnd.google.colaboratory.intrinsic+json": {
              "type": "dataframe",
              "variable_name": "columns",
              "summary": "{\n  \"name\": \"columns\",\n  \"rows\": 189,\n  \"fields\": [\n    {\n      \"column\": \"genre\",\n      \"properties\": {\n        \"dtype\": \"category\",\n        \"num_unique_values\": 2,\n        \"samples\": [\n          \"Rock\",\n          \"Christian\"\n        ],\n        \"semantic_type\": \"\",\n        \"description\": \"\"\n      }\n    },\n    {\n      \"column\": \"lyrics\",\n      \"properties\": {\n        \"dtype\": \"string\",\n        \"num_unique_values\": 189,\n        \"samples\": [\n          \" Cant explain all the feelings that youre making me feel. My hearts in overdrive, and youre behind the steering wheel.  Touching you, touching me. Touching you, God, youre touching me.  I believe in a thing called love. Just listen to the rhythm of my heart. Theres a chance we could make it now. Well be rocking till the Sun goes down. I believe in a thing called love.  I wanna kiss you every minute, every hour, every day. You got me in a spin, but everything is a, okay!  Touching you, touching me. Touching you cause youre touching me.  I believe in a thing called love. Just listen to the rhythm of my heart. Theres a chance we could make it now. Well be rocking till the Sun goes down. I believe in a thing called love.  Touching you, touching me. Touching you, God, youre touching me.  I believe in a thing called love. Just listen to the rhythm of my heart. Theres a chance we could make it now. Well be rocking till the Sun goes down. I believe in a thing called love. \",\n          \" Baby, when I think about you, I think about love Darlin, dont live without you and your love If I had those golden dreams of my yesterdays I would wrap you in the Heaven til Im dyin on the way  Feel like makin Feel like makin love Feel like makin love Feel like makin love Feel like makin love to you  Baby, if I think about you, I think about love Darlin if I live without you, I live without love And if I had the sun and moon, we will shine them I would give you both night and day of satisfyn  Feel like makin Feel like makin love Feel like makin love Feel like makin love Feel like makin love to you  And if I had those golden dreams of my yesterdays I would wrap you in the Heaven til Im dyin on the way  Feel like makin Feel like makin love Feel like makin love Feel like makin love Feel like makin love to you  Well I feel like makin love Well I feel like makin love Well I feel like makin love Feel like makin love to you  Well I feel like makin love Well I feel like makin love Well I feel like makin love Feel like makin love to you  Well I feel like makin love Well I feel like makin love Well I feel like makin love  Feel like makin love to you \"\n        ],\n        \"semantic_type\": \"\",\n        \"description\": \"\"\n      }\n    },\n    {\n      \"column\": \"lowered\",\n      \"properties\": {\n        \"dtype\": \"string\",\n        \"num_unique_values\": 189,\n        \"samples\": [\n          \" cant explain all the feelings that youre making me feel. my hearts in overdrive, and youre behind the steering wheel.  touching you, touching me. touching you, god, youre touching me.  i believe in a thing called love. just listen to the rhythm of my heart. theres a chance we could make it now. well be rocking till the sun goes down. i believe in a thing called love.  i wanna kiss you every minute, every hour, every day. you got me in a spin, but everything is a, okay!  touching you, touching me. touching you cause youre touching me.  i believe in a thing called love. just listen to the rhythm of my heart. theres a chance we could make it now. well be rocking till the sun goes down. i believe in a thing called love.  touching you, touching me. touching you, god, youre touching me.  i believe in a thing called love. just listen to the rhythm of my heart. theres a chance we could make it now. well be rocking till the sun goes down. i believe in a thing called love. \",\n          \" baby, when i think about you, i think about love darlin, dont live without you and your love if i had those golden dreams of my yesterdays i would wrap you in the heaven til im dyin on the way  feel like makin feel like makin love feel like makin love feel like makin love feel like makin love to you  baby, if i think about you, i think about love darlin if i live without you, i live without love and if i had the sun and moon, we will shine them i would give you both night and day of satisfyn  feel like makin feel like makin love feel like makin love feel like makin love feel like makin love to you  and if i had those golden dreams of my yesterdays i would wrap you in the heaven til im dyin on the way  feel like makin feel like makin love feel like makin love feel like makin love feel like makin love to you  well i feel like makin love well i feel like makin love well i feel like makin love feel like makin love to you  well i feel like makin love well i feel like makin love well i feel like makin love feel like makin love to you  well i feel like makin love well i feel like makin love well i feel like makin love  feel like makin love to you \"\n        ],\n        \"semantic_type\": \"\",\n        \"description\": \"\"\n      }\n    }\n  ]\n}"
            }
          },
          "metadata": {},
          "execution_count": 39
        }
      ],
      "source": [
        "import pandas as pd\n",
        "from pandas.core.common import flatten\n",
        "from google.colab import drive\n",
        "drive.mount('/content/drive/')\n",
        "data = pd.read_csv(\"/content/dataset.csv\")\n",
        "columns = data[['genre', 'lyrics']]\n",
        "columns = columns[(columns.genre == 'Christian') | (columns.genre == 'Rock')]\n",
        "\n",
        "columns['lowered'] = columns['lyrics'].str.lower()\n",
        "columns"
      ]
    },
    {
      "cell_type": "markdown",
      "metadata": {
        "id": "ZnYH33ARj4e-"
      },
      "source": [
        "*Токенизация*"
      ]
    },
    {
      "cell_type": "markdown",
      "metadata": {
        "id": "TCFc_BYgTYot"
      },
      "source": []
    },
    {
      "cell_type": "code",
      "execution_count": 40,
      "metadata": {
        "id": "i2CA_a8DjZq7",
        "colab": {
          "base_uri": "https://localhost:8080/"
        },
        "outputId": "ed1f158c-2221-4a34-ea8e-e63b0cc7b919"
      },
      "outputs": [
        {
          "output_type": "stream",
          "name": "stderr",
          "text": [
            "[nltk_data] Downloading package punkt to /root/nltk_data...\n",
            "[nltk_data]   Package punkt is already up-to-date!\n"
          ]
        }
      ],
      "source": [
        "import nltk\n",
        "from nltk.tokenize import word_tokenize\n",
        "nltk.download('punkt')\n",
        "tokened = columns.apply(lambda row: nltk.word_tokenize(row['lowered']), axis=1)\n",
        "columns['tokened'] = tokened"
      ]
    },
    {
      "cell_type": "markdown",
      "metadata": {
        "id": "DJI5ARGDkRZs"
      },
      "source": [
        "Удаление стоп-слов"
      ]
    },
    {
      "cell_type": "code",
      "execution_count": 41,
      "metadata": {
        "colab": {
          "base_uri": "https://localhost:8080/"
        },
        "id": "o5nfwRPSjjdJ",
        "outputId": "26a88372-099c-4aab-9f13-f90945d15555"
      },
      "outputs": [
        {
          "output_type": "stream",
          "name": "stderr",
          "text": [
            "[nltk_data] Downloading package stopwords to /root/nltk_data...\n",
            "[nltk_data]   Package stopwords is already up-to-date!\n"
          ]
        }
      ],
      "source": [
        "nltk.download('stopwords')\n",
        "from nltk.corpus import stopwords\n"
      ]
    },
    {
      "cell_type": "code",
      "execution_count": 42,
      "metadata": {
        "id": "wOdiGB8tjxcu"
      },
      "outputs": [],
      "source": [
        "noise = stopwords.words('english')\n",
        "withoutstop = columns['tokened'].apply(lambda x: [item for item in x if item not in noise])\n",
        "without_stop = []\n",
        "for a in withoutstop:\n",
        "    without_stop.append(\", \".join(a))\n",
        "columns['without_stop'] = without_stop"
      ]
    },
    {
      "cell_type": "markdown",
      "metadata": {
        "id": "NiWXAS7vkUmW"
      },
      "source": [
        "Лемматизация"
      ]
    },
    {
      "cell_type": "code",
      "execution_count": 43,
      "metadata": {
        "id": "gta_y3VHj1KR",
        "colab": {
          "base_uri": "https://localhost:8080/"
        },
        "outputId": "d16a013f-7bea-467f-889c-7f15a834d3de"
      },
      "outputs": [
        {
          "output_type": "stream",
          "name": "stderr",
          "text": [
            "[nltk_data] Downloading package wordnet to /root/nltk_data...\n",
            "[nltk_data]   Package wordnet is already up-to-date!\n"
          ]
        }
      ],
      "source": [
        "from nltk.stem import WordNetLemmatizer\n",
        "nltk.download('wordnet')\n",
        "lemmatizer = WordNetLemmatizer()"
      ]
    },
    {
      "cell_type": "code",
      "execution_count": 44,
      "metadata": {
        "id": "wVahFd0Qj3S8"
      },
      "outputs": [],
      "source": [
        "lemmatized = columns['without_stop'].apply(lambda x: [lemmatizer.lemmatize(x)])\n",
        "lemma = []\n",
        "for a in lemmatized:\n",
        "    lemma.append(\", \".join(a))\n",
        "columns['lemmatized'] = lemma"
      ]
    },
    {
      "cell_type": "markdown",
      "metadata": {
        "id": "0zdmXqQsk9FY"
      },
      "source": [
        "Разделение данных"
      ]
    },
    {
      "cell_type": "code",
      "execution_count": 45,
      "metadata": {
        "id": "DTHHCjZUkhmO",
        "colab": {
          "base_uri": "https://localhost:8080/"
        },
        "outputId": "862b8e39-c567-469c-9aa0-d428a5f0b6cf"
      },
      "outputs": [
        {
          "output_type": "execute_result",
          "data": {
            "text/plain": [
              "Rock         95\n",
              "Christian    94\n",
              "Name: genre, dtype: int64"
            ]
          },
          "metadata": {},
          "execution_count": 45
        }
      ],
      "source": [
        "from sklearn.model_selection import train_test_split\n",
        "x_train, x_test, y_train, y_test = train_test_split(columns.lemmatized, columns.genre, train_size = 0.7)\n",
        "columns.genre.value_counts()"
      ]
    },
    {
      "cell_type": "markdown",
      "metadata": {
        "id": "b2p2wpOClLVx"
      },
      "source": [
        "Векторизация"
      ]
    },
    {
      "cell_type": "code",
      "execution_count": 46,
      "metadata": {
        "id": "I3T9yG_FlKWb"
      },
      "outputs": [],
      "source": [
        "from sklearn.feature_extraction.text import CountVectorizer\n",
        "vectorizer = CountVectorizer(ngram_range=(1, 3))\n",
        "vectorized_x_train = vectorizer.fit_transform(x_train)"
      ]
    },
    {
      "cell_type": "markdown",
      "metadata": {
        "id": "1QEGphj8lRkW"
      },
      "source": [
        "Классификация"
      ]
    },
    {
      "cell_type": "code",
      "execution_count": 47,
      "metadata": {
        "id": "sFIDzJSAlQ3K"
      },
      "outputs": [],
      "source": [
        "from sklearn.naive_bayes import MultinomialNB\n",
        "clf = MultinomialNB()\n",
        "clf.fit(vectorized_x_train, y_train)\n",
        "vectorized_x_test = vectorizer.transform(x_test)"
      ]
    },
    {
      "cell_type": "markdown",
      "metadata": {
        "id": "Kk4wEc_6loL4"
      },
      "source": [
        "Оценка классификации"
      ]
    },
    {
      "cell_type": "code",
      "execution_count": 48,
      "metadata": {
        "id": "fOsoS6aTlu7z",
        "colab": {
          "base_uri": "https://localhost:8080/"
        },
        "outputId": "8e2a262d-d03e-4780-bfa6-2aaf3f402262"
      },
      "outputs": [
        {
          "output_type": "stream",
          "name": "stdout",
          "text": [
            "              precision    recall  f1-score   support\n",
            "\n",
            "   Christian       0.93      0.93      0.93        29\n",
            "        Rock       0.93      0.93      0.93        28\n",
            "\n",
            "    accuracy                           0.93        57\n",
            "   macro avg       0.93      0.93      0.93        57\n",
            "weighted avg       0.93      0.93      0.93        57\n",
            "\n"
          ]
        }
      ],
      "source": [
        "from sklearn.metrics import *\n",
        "pred = clf.predict(vectorized_x_test)\n",
        "print(classification_report(y_test, pred))"
      ]
    },
    {
      "cell_type": "markdown",
      "metadata": {
        "id": "wI1rVEg_kwCf"
      },
      "source": [
        "# 2."
      ]
    },
    {
      "cell_type": "markdown",
      "metadata": {
        "id": "bWdnLBHf_onv"
      },
      "source": [
        "2) Найти (нагуглить) по песне каждого из жанров, которые Вам достались, после необходимой обработки их текстов определить жанр обеих песен с помощью обученной в ходе выполнения предыдущего пункта модели."
      ]
    },
    {
      "cell_type": "code",
      "execution_count": 49,
      "metadata": {
        "id": "qHHk6-MfpFkS",
        "colab": {
          "base_uri": "https://localhost:8080/"
        },
        "outputId": "08ffd030-bbc2-437b-d734-44826e6f4512"
      },
      "outputs": [
        {
          "output_type": "execute_result",
          "data": {
            "text/plain": [
              "array(['Rock'], dtype='<U9')"
            ]
          },
          "metadata": {},
          "execution_count": 49
        }
      ],
      "source": [
        "#группа evancense\n",
        "music = [\"Don't cry to me. If you loved me. You would be here with me. You want me, come find me. Make up your mind. Should I let you fall. And lose it all?. So maybe you can remember yourself. Can't keep believing. We're only deceiving ourselves. And I'm sick of the lies. And you're too late. Don't cry to me. If you loved me. You would be here with me. You want me, come find me. Make up your mind. Couldn't take the blame. Sick with shame. Must be exhausting to lose your own game. Selfishly hated. No wonder you're jaded. You can't play the victim this time. And you're too late. So don't cry to me. If you loved me. You would be here with me. You want me, come find me. Make up your mind. You never call me when you're sober. You only want it cause it's over. It's over. How could I have burned paradise?. How could I?. You were never mine. So don't cry to me. If you loved me. You would be here with me. Don't lie to me. Just get your things. I've made up your mind\"]\n",
        "#нижний регистр\n",
        "music_lower = list(map(str.lower, music))\n",
        "#токенизация\n",
        "music_tok = [nltk.word_tokenize(i) for i in music_lower]\n",
        "music_tokened = list(flatten(music_tok))\n",
        "#удаление стоп-слов\n",
        "music_withoutstop = list(set(music_tokened) - set(noise))\n",
        "#лемматизация\n",
        "music_pro = [lemmatizer.lemmatize(i) for i in music_withoutstop]\n",
        "\n",
        "#векторизация\n",
        "vectorized_mus = vectorizer.transform(music)\n",
        "clf.predict(vectorized_mus)\n"
      ]
    },
    {
      "cell_type": "code",
      "source": [
        "#christian music\n",
        "music = [\"When He rolls up His sleeves He aint just putting on the ritz (Our God is an awesome God) Theres thunder in His footsteps And lightning in His fists (Our God is an awesome God) And the Lord wasnt joking when He kicked em out of Eden It wasnt for no reason that He shed His blood His return is very close and so you better be believing that Our God is an awesome God Our God is an awesome God He reigns from Heaven above With wisdom, power, and love Our God is an awesome \"]\n",
        "#нижний регистр\n",
        "music_lower = list(map(str.lower, music))\n",
        "#токенизация\n",
        "music_tok = [nltk.word_tokenize(i) for i in music_lower]\n",
        "music_tokened = list(flatten(music_tok))\n",
        "#удаление стоп-слов\n",
        "music_withoutstop = list(set(music_tokened) - set(noise))\n",
        "#лемматизация\n",
        "music_pro = [lemmatizer.lemmatize(i) for i in music_withoutstop]\n",
        "\n",
        "#векторизация\n",
        "vectorized_mus = vectorizer.transform(music)\n",
        "clf.predict(vectorized_mus)"
      ],
      "metadata": {
        "colab": {
          "base_uri": "https://localhost:8080/"
        },
        "id": "Fuy7fbNQgm3K",
        "outputId": "ed28e13e-2c43-46c9-b257-998072bd08dc"
      },
      "execution_count": 50,
      "outputs": [
        {
          "output_type": "execute_result",
          "data": {
            "text/plain": [
              "array(['Christian'], dtype='<U9')"
            ]
          },
          "metadata": {},
          "execution_count": 50
        }
      ]
    },
    {
      "cell_type": "markdown",
      "metadata": {
        "id": "-o3_83FKK9R4"
      },
      "source": [
        "# 3."
      ]
    },
    {
      "cell_type": "markdown",
      "metadata": {
        "id": "WtmpuwX6AZy6"
      },
      "source": [
        "3) С помощью набора данных по ссылке аналогичным образом научить модель отличать тексты песен группы Evanescence от текстов песен Пола МакКартни"
      ]
    },
    {
      "cell_type": "code",
      "execution_count": 51,
      "metadata": {
        "colab": {
          "base_uri": "https://localhost:8080/"
        },
        "id": "ShnlTrZkK9R5",
        "outputId": "f998ce37-eeb3-43e7-838e-4ea6b220cf59"
      },
      "outputs": [
        {
          "output_type": "stream",
          "name": "stdout",
          "text": [
            "Drive already mounted at /content/drive/; to attempt to forcibly remount, call drive.mount(\"/content/drive/\", force_remount=True).\n"
          ]
        }
      ],
      "source": [
        "import pandas as pd\n",
        "from pandas.core.common import flatten\n",
        "from google.colab import drive\n",
        "drive.mount('/content/drive/')\n",
        "dat = pd.read_csv(\"/content/dataset-lyrics-musics-mini.csv\")\n",
        "columns = dat[['cantorNome', 'letra']]\n",
        "columns = columns[(columns.cantorNome == 'evanescence') | (columns.cantorNome == 'paul-mccartney')]\n",
        "\n",
        "columns['lowered'] = columns['letra'].str.lower()"
      ]
    },
    {
      "cell_type": "markdown",
      "metadata": {
        "id": "-o377PHZK9R6"
      },
      "source": [
        "*Токенизация*"
      ]
    },
    {
      "cell_type": "code",
      "execution_count": 30,
      "metadata": {
        "colab": {
          "base_uri": "https://localhost:8080/"
        },
        "id": "aHUS4l81K9R6",
        "outputId": "fb995259-6cd7-4225-832b-1a2e2269dd59"
      },
      "outputs": [
        {
          "output_type": "stream",
          "name": "stderr",
          "text": [
            "[nltk_data] Downloading package punkt to /root/nltk_data...\n",
            "[nltk_data]   Package punkt is already up-to-date!\n"
          ]
        }
      ],
      "source": [
        "import nltk\n",
        "from nltk.tokenize import word_tokenize\n",
        "nltk.download('punkt')\n",
        "tokened = columns.apply(lambda row: nltk.word_tokenize(row['lowered']), axis=1)\n",
        "columns['tokened'] = tokened"
      ]
    },
    {
      "cell_type": "markdown",
      "metadata": {
        "id": "FN1MUlQuK9R6"
      },
      "source": [
        "Удаление стоп-слов"
      ]
    },
    {
      "cell_type": "code",
      "execution_count": 31,
      "metadata": {
        "colab": {
          "base_uri": "https://localhost:8080/"
        },
        "id": "DN5e_QAzK9R6",
        "outputId": "9213e94f-34aa-4419-f0fd-8dd9440af42e"
      },
      "outputs": [
        {
          "output_type": "stream",
          "name": "stderr",
          "text": [
            "[nltk_data] Downloading package stopwords to /root/nltk_data...\n",
            "[nltk_data]   Package stopwords is already up-to-date!\n"
          ]
        }
      ],
      "source": [
        "nltk.download('stopwords')\n",
        "from nltk.corpus import stopwords"
      ]
    },
    {
      "cell_type": "code",
      "execution_count": 32,
      "metadata": {
        "id": "brNL9UUEK9R6"
      },
      "outputs": [],
      "source": [
        "noise = stopwords.words('english')\n",
        "withoutstop = columns['tokened'].apply(lambda x: [item for item in x if item not in noise])\n",
        "without_stop = []\n",
        "for a in withoutstop:\n",
        "    without_stop.append(\", \".join(a))\n",
        "columns['without_stop'] = without_stop"
      ]
    },
    {
      "cell_type": "markdown",
      "metadata": {
        "id": "bq3QzxRuK9R6"
      },
      "source": [
        "Лемматизация"
      ]
    },
    {
      "cell_type": "code",
      "execution_count": 33,
      "metadata": {
        "id": "PIzTKuvEK9R6",
        "colab": {
          "base_uri": "https://localhost:8080/"
        },
        "outputId": "8f2b2866-2d1b-4fe7-f0b9-4c13be3f5f7c"
      },
      "outputs": [
        {
          "output_type": "stream",
          "name": "stderr",
          "text": [
            "[nltk_data] Downloading package wordnet to /root/nltk_data...\n",
            "[nltk_data]   Package wordnet is already up-to-date!\n"
          ]
        }
      ],
      "source": [
        "from nltk.stem import WordNetLemmatizer\n",
        "nltk.download('wordnet')\n",
        "lemmatizer = WordNetLemmatizer()"
      ]
    },
    {
      "cell_type": "code",
      "execution_count": 34,
      "metadata": {
        "id": "xSzyIolyK9R7"
      },
      "outputs": [],
      "source": [
        "lemmatized = columns['without_stop'].apply(lambda x: [lemmatizer.lemmatize(x)])\n",
        "lemma = []\n",
        "for a in lemmatized:\n",
        "    lemma.append(\", \".join(a))\n",
        "columns['lemmatized'] = lemma"
      ]
    },
    {
      "cell_type": "markdown",
      "metadata": {
        "id": "HE4PDjq6K9R7"
      },
      "source": [
        "Разделение данных"
      ]
    },
    {
      "cell_type": "markdown",
      "metadata": {
        "id": "ZYJA4POGTymQ"
      },
      "source": []
    },
    {
      "cell_type": "code",
      "execution_count": 35,
      "metadata": {
        "id": "LuExKPBVK9R7",
        "colab": {
          "base_uri": "https://localhost:8080/"
        },
        "outputId": "263bff59-4f81-4638-c0cd-4a4e2b0d116c"
      },
      "outputs": [
        {
          "output_type": "execute_result",
          "data": {
            "text/plain": [
              "paul-mccartney    464\n",
              "evanescence       154\n",
              "Name: cantorNome, dtype: int64"
            ]
          },
          "metadata": {},
          "execution_count": 35
        }
      ],
      "source": [
        "from sklearn.model_selection import train_test_split\n",
        "x_train, x_test, y_train, y_test = train_test_split(columns.lemmatized, columns.cantorNome, train_size = 0.7)\n",
        "columns.cantorNome.value_counts()"
      ]
    },
    {
      "cell_type": "markdown",
      "metadata": {
        "id": "3bdzQxwtK9R7"
      },
      "source": [
        "Векторизация"
      ]
    },
    {
      "cell_type": "code",
      "execution_count": 36,
      "metadata": {
        "id": "Xdi40suwK9R7"
      },
      "outputs": [],
      "source": [
        "from sklearn.feature_extraction.text import CountVectorizer\n",
        "vectorizer = CountVectorizer(ngram_range=(1, 3))\n",
        "vectorized_x_train = vectorizer.fit_transform(x_train)"
      ]
    },
    {
      "cell_type": "markdown",
      "metadata": {
        "id": "znQekWmJK9R7"
      },
      "source": [
        "Классификация"
      ]
    },
    {
      "cell_type": "code",
      "execution_count": 37,
      "metadata": {
        "id": "cl60JpH2K9R7"
      },
      "outputs": [],
      "source": [
        "from sklearn.naive_bayes import MultinomialNB\n",
        "clf = MultinomialNB()\n",
        "clf.fit(vectorized_x_train, y_train)\n",
        "vectorized_x_test = vectorizer.transform(x_test)"
      ]
    },
    {
      "cell_type": "markdown",
      "metadata": {
        "id": "JbU2PCsfK9R7"
      },
      "source": [
        "Оценка классификации"
      ]
    },
    {
      "cell_type": "code",
      "execution_count": 38,
      "metadata": {
        "id": "dm8ibQEWK9R8",
        "colab": {
          "base_uri": "https://localhost:8080/"
        },
        "outputId": "28d96bcd-45b2-44f7-f175-900b64eff204"
      },
      "outputs": [
        {
          "output_type": "stream",
          "name": "stdout",
          "text": [
            "                precision    recall  f1-score   support\n",
            "\n",
            "   evanescence       0.92      0.58      0.71        38\n",
            "paul-mccartney       0.90      0.99      0.94       148\n",
            "\n",
            "      accuracy                           0.90       186\n",
            "     macro avg       0.91      0.78      0.83       186\n",
            "  weighted avg       0.90      0.90      0.89       186\n",
            "\n"
          ]
        }
      ],
      "source": [
        "from sklearn.metrics import *\n",
        "pred = clf.predict(vectorized_x_test)\n",
        "print(classification_report(y_test, pred))"
      ]
    }
  ],
  "metadata": {
    "colab": {
      "provenance": [],
      "include_colab_link": true
    },
    "kernelspec": {
      "display_name": "Python 3",
      "name": "python3"
    },
    "language_info": {
      "name": "python"
    }
  },
  "nbformat": 4,
  "nbformat_minor": 0
}